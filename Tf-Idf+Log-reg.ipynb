{
 "cells": [
  {
   "cell_type": "code",
   "execution_count": 8,
   "metadata": {},
   "outputs": [],
   "source": [
    "import joblib\n",
    "import pandas as pd\n",
    "from sklearn.feature_extraction.text import TfidfVectorizer\n",
    "from sklearn.metrics import confusion_matrix, classification_report\n",
    "from sklearn.model_selection import train_test_split\n",
    "from sklearn.linear_model import LogisticRegression\n"
   ]
  },
  {
   "cell_type": "code",
   "execution_count": 19,
   "metadata": {},
   "outputs": [
    {
     "data": {
      "text/html": [
       "<div>\n",
       "<style scoped>\n",
       "    .dataframe tbody tr th:only-of-type {\n",
       "        vertical-align: middle;\n",
       "    }\n",
       "\n",
       "    .dataframe tbody tr th {\n",
       "        vertical-align: top;\n",
       "    }\n",
       "\n",
       "    .dataframe thead th {\n",
       "        text-align: right;\n",
       "    }\n",
       "</style>\n",
       "<table border=\"1\" class=\"dataframe\">\n",
       "  <thead>\n",
       "    <tr style=\"text-align: right;\">\n",
       "      <th></th>\n",
       "      <th>category</th>\n",
       "      <th>text</th>\n",
       "    </tr>\n",
       "  </thead>\n",
       "  <tbody>\n",
       "    <tr>\n",
       "      <th>16400</th>\n",
       "      <td>NotClassic</td>\n",
       "      <td>и все же пробелы и внутренние противоречия в з...</td>\n",
       "    </tr>\n",
       "    <tr>\n",
       "      <th>3860</th>\n",
       "      <td>Classic</td>\n",
       "      <td>и слышите как ахает уж вся московская улица па...</td>\n",
       "    </tr>\n",
       "    <tr>\n",
       "      <th>2202</th>\n",
       "      <td>Classic</td>\n",
       "      <td>значит не могу к тому же во всяком случае я не...</td>\n",
       "    </tr>\n",
       "    <tr>\n",
       "      <th>3883</th>\n",
       "      <td>Classic</td>\n",
       "      <td>зять известно знает шельма свою пользу и ухом ...</td>\n",
       "    </tr>\n",
       "    <tr>\n",
       "      <th>9149</th>\n",
       "      <td>Classic</td>\n",
       "      <td>дотащив веру юрьевну до внутренней лестницы ла...</td>\n",
       "    </tr>\n",
       "    <tr>\n",
       "      <th>14413</th>\n",
       "      <td>NotClassic</td>\n",
       "      <td>я слышал они перемещаются в тенях и двигаются ...</td>\n",
       "    </tr>\n",
       "    <tr>\n",
       "      <th>15540</th>\n",
       "      <td>NotClassic</td>\n",
       "      <td>я уезжаю хорошую работу предложили в киеве ког...</td>\n",
       "    </tr>\n",
       "    <tr>\n",
       "      <th>15116</th>\n",
       "      <td>NotClassic</td>\n",
       "      <td>то что этот дух безумен стало понятно сразу ис...</td>\n",
       "    </tr>\n",
       "    <tr>\n",
       "      <th>15353</th>\n",
       "      <td>NotClassic</td>\n",
       "      <td>тебе надо все это менять сказал ираклий неспеш...</td>\n",
       "    </tr>\n",
       "    <tr>\n",
       "      <th>838</th>\n",
       "      <td>Classic</td>\n",
       "      <td>манах которые нам приходилось читать в давно м...</td>\n",
       "    </tr>\n",
       "  </tbody>\n",
       "</table>\n",
       "</div>"
      ],
      "text/plain": [
       "         category                                               text\n",
       "16400  NotClassic  и все же пробелы и внутренние противоречия в з...\n",
       "3860      Classic  и слышите как ахает уж вся московская улица па...\n",
       "2202      Classic  значит не могу к тому же во всяком случае я не...\n",
       "3883      Classic  зять известно знает шельма свою пользу и ухом ...\n",
       "9149      Classic  дотащив веру юрьевну до внутренней лестницы ла...\n",
       "14413  NotClassic  я слышал они перемещаются в тенях и двигаются ...\n",
       "15540  NotClassic  я уезжаю хорошую работу предложили в киеве ког...\n",
       "15116  NotClassic  то что этот дух безумен стало понятно сразу ис...\n",
       "15353  NotClassic  тебе надо все это менять сказал ираклий неспеш...\n",
       "838       Classic  манах которые нам приходилось читать в давно м..."
      ]
     },
     "execution_count": 19,
     "metadata": {},
     "output_type": "execute_result"
    }
   ],
   "source": [
    "df = pd.read_json(r\"D:/NLP/Dataset/dataset.json\")\n",
    "df.sample(10)\n"
   ]
  },
  {
   "cell_type": "code",
   "execution_count": 21,
   "metadata": {},
   "outputs": [
    {
     "data": {
      "text/plain": [
       "<matplotlib.axes._subplots.AxesSubplot at 0x525e2f98>"
      ]
     },
     "execution_count": 21,
     "metadata": {},
     "output_type": "execute_result"
    },
    {
     "data": {
      "image/png": "[encoded data removed]",
      "text/plain": [
       "<Figure size 432x288 with 1 Axes>"
      ]
     },
     "metadata": {
      "needs_background": "light"
     },
     "output_type": "display_data"
    }
   ],
   "source": [
    "labels_map = {\"Classic\": 0, \"NotClassic\": 1}\n",
    "df[\"labels\"] = df[\"category\"].map(labels_map)\n",
    "df[\"labels\"].hist()"
   ]
  },
  {
   "cell_type": "code",
   "execution_count": 9,
   "metadata": {},
   "outputs": [],
   "source": [
    "df_train, df_test = train_test_split(df, random_state=19, test_size=0.25)\n",
    "tfidf = TfidfVectorizer(max_features=20000)\n",
    "tfidf_matrix = tfidf.fit_transform(df_train[\"text\"])\n",
    "tdidf_matrix_test = tfidf.transform(df_test[\"text\"])\n",
    "\n",
    "lr = LogisticRegression(C=2)\n",
    "lr.fit(tfidf_matrix, df_train[\"labels\"])\n",
    "\n",
    "predict_labels = lr.predict(tdidf_matrix_test)"
   ]
  },
  {
   "cell_type": "code",
   "execution_count": 12,
   "metadata": {},
   "outputs": [
    {
     "name": "stdout",
     "output_type": "stream",
     "text": [
      "              precision    recall  f1-score   support\n",
      "\n",
      "           0       0.99      1.00      1.00      3415\n",
      "           1       1.00      0.99      0.99      2075\n",
      "\n",
      "    accuracy                           1.00      5490\n",
      "   macro avg       1.00      0.99      0.99      5490\n",
      "weighted avg       1.00      1.00      1.00      5490\n",
      "\n",
      "[[3411    4]\n",
      " [  22 2053]]\n"
     ]
    }
   ],
   "source": [
    "print(classification_report(df_test[\"labels\"], predict_labels))\n",
    "print(confusion_matrix(df_test[\"labels\"], predict_labels))"
   ]
  },
  {
   "cell_type": "markdown",
   "metadata": {},
   "source": [
    "Чтобы отличить классический текст, от различных современных произведений не потребовалось лемматизации, подбора гиперпараметров или других моделей. Хватило Tfidf + LogReg из коробки. \n",
    "\n",
    "### Переобучение на полном датасете и сохранение модели.\n"
   ]
  },
  {
   "cell_type": "code",
   "execution_count": 13,
   "metadata": {},
   "outputs": [
    {
     "data": {
      "text/plain": [
       "LogisticRegression(C=2, class_weight=None, dual=False, fit_intercept=True,\n",
       "                   intercept_scaling=1, l1_ratio=None, max_iter=100,\n",
       "                   multi_class='auto', n_jobs=None, penalty='l2',\n",
       "                   random_state=None, solver='lbfgs', tol=0.0001, verbose=0,\n",
       "                   warm_start=False)"
      ]
     },
     "execution_count": 13,
     "metadata": {},
     "output_type": "execute_result"
    }
   ],
   "source": [
    "tfidf = TfidfVectorizer(max_features=20000)\n",
    "tfidf_matrix = tfidf.fit_transform(df[\"text\"])\n",
    "\n",
    "\n",
    "lr = LogisticRegression(C=2)\n",
    "lr.fit(tfidf_matrix, df[\"labels\"])"
   ]
  },
  {
   "cell_type": "code",
   "execution_count": 15,
   "metadata": {},
   "outputs": [
    {
     "data": {
      "text/plain": [
       "['src/TfIdf-LogReg.joblib']"
      ]
     },
     "execution_count": 15,
     "metadata": {},
     "output_type": "execute_result"
    }
   ],
   "source": [
    "joblib.dump(lr, \"src/TfIdf-LogReg.joblib\")"
   ]
  },
  {
   "cell_type": "code",
   "execution_count": null,
   "metadata": {},
   "outputs": [],
   "source": []
  }
 ],
 "metadata": {
  "kernelspec": {
   "display_name": "Python 3",
   "language": "python",
   "name": "python3"
  },
  "language_info": {
   "codemirror_mode": {
    "name": "ipython",
    "version": 3
   },
   "file_extension": ".py",
   "mimetype": "text/x-python",
   "name": "python",
   "nbconvert_exporter": "python",
   "pygments_lexer": "ipython3",
   "version": "3.7.3"
  }
 },
 "nbformat": 4,
 "nbformat_minor": 2
}
