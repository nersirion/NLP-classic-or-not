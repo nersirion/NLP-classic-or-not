{
 "cells": [
  {
   "cell_type": "code",
   "execution_count": 1,
   "metadata": {},
   "outputs": [],
   "source": [
    "import joblib\n",
    "import pandas as pd\n",
    "from sklearn.feature_extraction.text import TfidfVectorizer\n",
    "from sklearn.metrics import confusion_matrix, classification_report\n",
    "from sklearn.model_selection import train_test_split\n",
    "from sklearn.linear_model import LogisticRegression\n"
   ]
  },
  {
   "cell_type": "code",
   "execution_count": 2,
   "metadata": {},
   "outputs": [
    {
     "data": {
      "text/html": [
       "<div>\n",
       "<style scoped>\n",
       "    .dataframe tbody tr th:only-of-type {\n",
       "        vertical-align: middle;\n",
       "    }\n",
       "\n",
       "    .dataframe tbody tr th {\n",
       "        vertical-align: top;\n",
       "    }\n",
       "\n",
       "    .dataframe thead th {\n",
       "        text-align: right;\n",
       "    }\n",
       "</style>\n",
       "<table border=\"1\" class=\"dataframe\">\n",
       "  <thead>\n",
       "    <tr style=\"text-align: right;\">\n",
       "      <th></th>\n",
       "      <th>category</th>\n",
       "      <th>text</th>\n",
       "    </tr>\n",
       "  </thead>\n",
       "  <tbody>\n",
       "    <tr>\n",
       "      <th>11742</th>\n",
       "      <td>Classic</td>\n",
       "      <td>совершенно оправданный акт самоубийства ничто ...</td>\n",
       "    </tr>\n",
       "    <tr>\n",
       "      <th>3747</th>\n",
       "      <td>Classic</td>\n",
       "      <td>одному тайну вашей идеи по собственному вашему...</td>\n",
       "    </tr>\n",
       "    <tr>\n",
       "      <th>19495</th>\n",
       "      <td>NotClassic</td>\n",
       "      <td>неведомая сила схватила меня за левое предплеч...</td>\n",
       "    </tr>\n",
       "    <tr>\n",
       "      <th>15654</th>\n",
       "      <td>NotClassic</td>\n",
       "      <td>наконец телега остановилась на довольно большо...</td>\n",
       "    </tr>\n",
       "    <tr>\n",
       "      <th>8490</th>\n",
       "      <td>Classic</td>\n",
       "      <td>как вытаращил глаза лембке да разве вы юлии ми...</td>\n",
       "    </tr>\n",
       "    <tr>\n",
       "      <th>8021</th>\n",
       "      <td>Classic</td>\n",
       "      <td>митя вынул из жилета свою бумажку развернул ее...</td>\n",
       "    </tr>\n",
       "    <tr>\n",
       "      <th>1991</th>\n",
       "      <td>Classic</td>\n",
       "      <td>ее как царицу и мужчина перед ней наружно во п...</td>\n",
       "    </tr>\n",
       "    <tr>\n",
       "      <th>14803</th>\n",
       "      <td>NotClassic</td>\n",
       "      <td>следопыт осмотрелся кругом буря ушла на восток...</td>\n",
       "    </tr>\n",
       "    <tr>\n",
       "      <th>17561</th>\n",
       "      <td>NotClassic</td>\n",
       "      <td>некто систематически крадет тела и судя по том...</td>\n",
       "    </tr>\n",
       "    <tr>\n",
       "      <th>3347</th>\n",
       "      <td>Classic</td>\n",
       "      <td>мать рассказывает что не знала брать ли с тебя...</td>\n",
       "    </tr>\n",
       "  </tbody>\n",
       "</table>\n",
       "</div>"
      ],
      "text/plain": [
       "         category                                               text\n",
       "11742     Classic  совершенно оправданный акт самоубийства ничто ...\n",
       "3747      Classic  одному тайну вашей идеи по собственному вашему...\n",
       "19495  NotClassic  неведомая сила схватила меня за левое предплеч...\n",
       "15654  NotClassic  наконец телега остановилась на довольно большо...\n",
       "8490      Classic  как вытаращил глаза лембке да разве вы юлии ми...\n",
       "8021      Classic  митя вынул из жилета свою бумажку развернул ее...\n",
       "1991      Classic  ее как царицу и мужчина перед ней наружно во п...\n",
       "14803  NotClassic  следопыт осмотрелся кругом буря ушла на восток...\n",
       "17561  NotClassic  некто систематически крадет тела и судя по том...\n",
       "3347      Classic  мать рассказывает что не знала брать ли с тебя..."
      ]
     },
     "execution_count": 2,
     "metadata": {},
     "output_type": "execute_result"
    }
   ],
   "source": [
    "df = pd.read_json(r\"D:/NLP/Dataset/dataset.json\")\n",
    "df.sample(10)\n"
   ]
  },
  {
   "cell_type": "code",
   "execution_count": 3,
   "metadata": {},
   "outputs": [
    {
     "data": {
      "text/plain": [
       "<matplotlib.axes._subplots.AxesSubplot at 0x4a98a240>"
      ]
     },
     "execution_count": 3,
     "metadata": {},
     "output_type": "execute_result"
    }
   ],
   "source": [
    "labels_map = {\"Classic\": 0, \"NotClassic\": 1}\n",
    "df[\"labels\"] = df[\"category\"].map(labels_map)\n",
    "df[\"labels\"].hist()"
   ]
  },
  {
   "cell_type": "code",
   "execution_count": 9,
   "metadata": {},
   "outputs": [],
   "source": [
    "df_train, df_test = train_test_split(df, random_state=19, test_size=0.25)\n",
    "tfidf = TfidfVectorizer(max_features=20000)\n",
    "tfidf_matrix = tfidf.fit_transform(df_train[\"text\"])\n",
    "tdidf_matrix_test = tfidf.transform(df_test[\"text\"])\n",
    "\n",
    "lr = LogisticRegression(C=2)\n",
    "lr.fit(tfidf_matrix, df_train[\"labels\"])\n",
    "\n",
    "predict_labels = lr.predict(tdidf_matrix_test)"
   ]
  },
  {
   "cell_type": "code",
   "execution_count": 12,
   "metadata": {},
   "outputs": [
    {
     "name": "stdout",
     "output_type": "stream",
     "text": [
      "              precision    recall  f1-score   support\n",
      "\n",
      "           0       0.99      1.00      1.00      3415\n",
      "           1       1.00      0.99      0.99      2075\n",
      "\n",
      "    accuracy                           1.00      5490\n",
      "   macro avg       1.00      0.99      0.99      5490\n",
      "weighted avg       1.00      1.00      1.00      5490\n",
      "\n",
      "[[3411    4]\n",
      " [  22 2053]]\n"
     ]
    }
   ],
   "source": [
    "print(classification_report(df_test[\"labels\"], predict_labels))\n",
    "print(confusion_matrix(df_test[\"labels\"], predict_labels))"
   ]
  },
  {
   "cell_type": "markdown",
   "metadata": {},
   "source": [
    "Чтобы отличить классический текст, от различных современных произведений не потребовалось лемматизации, подбора гиперпараметров или других моделей. Хватило Tfidf + LogReg из коробки. \n",
    "\n",
    "### Переобучение на полном датасете и сохранение модели.\n"
   ]
  },
  {
   "cell_type": "code",
   "execution_count": 4,
   "metadata": {},
   "outputs": [
    {
     "data": {
      "text/plain": [
       "LogisticRegression(C=2, class_weight=None, dual=False, fit_intercept=True,\n",
       "                   intercept_scaling=1, l1_ratio=None, max_iter=100,\n",
       "                   multi_class='auto', n_jobs=None, penalty='l2',\n",
       "                   random_state=None, solver='lbfgs', tol=0.0001, verbose=0,\n",
       "                   warm_start=False)"
      ]
     },
     "execution_count": 4,
     "metadata": {},
     "output_type": "execute_result"
    }
   ],
   "source": [
    "tfidf = TfidfVectorizer(max_features=20000)\n",
    "tfidf_matrix = tfidf.fit_transform(df[\"text\"])\n",
    "\n",
    "\n",
    "lr = LogisticRegression(C=2)\n",
    "lr.fit(tfidf_matrix, df[\"labels\"])"
   ]
  },
  {
   "cell_type": "code",
   "execution_count": 5,
   "metadata": {},
   "outputs": [
    {
     "data": {
      "text/plain": [
       "['src/TfIdf.joblib']"
      ]
     },
     "execution_count": 5,
     "metadata": {},
     "output_type": "execute_result"
    }
   ],
   "source": [
    "joblib.dump(lr, \"src/TfIdf-LogReg.joblib\")\n",
    "joblib.dump(tfidf, \"src/TfIdf.joblib\")"
   ]
  },
  {
   "cell_type": "code",
   "execution_count": null,
   "metadata": {},
   "outputs": [],
   "source": []
  }
 ],
 "metadata": {
  "kernelspec": {
   "display_name": "Python 3",
   "language": "python",
   "name": "python3"
  },
  "language_info": {
   "codemirror_mode": {
    "name": "ipython",
    "version": 3
   },
   "file_extension": ".py",
   "mimetype": "text/x-python",
   "name": "python",
   "nbconvert_exporter": "python",
   "pygments_lexer": "ipython3",
   "version": "3.7.3"
  }
 },
 "nbformat": 4,
 "nbformat_minor": 2
}
